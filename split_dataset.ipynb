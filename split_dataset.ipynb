{
 "metadata": {
  "language_info": {
   "codemirror_mode": {
    "name": "ipython",
    "version": 3
   },
   "file_extension": ".py",
   "mimetype": "text/x-python",
   "name": "python",
   "nbconvert_exporter": "python",
   "pygments_lexer": "ipython3",
   "version": "3.6.3-final"
  },
  "orig_nbformat": 2,
  "kernelspec": {
   "name": "python363jvsc74a57bd0488d36856135a845504ec1bf2d6ea295802ce30fbf27e4b0f7fd72293d3389e6",
   "display_name": "Python 3.6.3 64-bit ('sttn': conda)"
  }
 },
 "nbformat": 4,
 "nbformat_minor": 2,
 "cells": [
  {
   "cell_type": "code",
   "execution_count": 1,
   "metadata": {},
   "outputs": [],
   "source": [
    "import os\n",
    "import json\n",
    "import shutil"
   ]
  },
  {
   "cell_type": "code",
   "execution_count": 2,
   "metadata": {},
   "outputs": [],
   "source": [
    "root_dir = '/home/kyuyeon/ssd/sandbox/__dataset/MUSIC'\n",
    "vid_labels = dict()"
   ]
  },
  {
   "cell_type": "code",
   "execution_count": 3,
   "metadata": {},
   "outputs": [],
   "source": [
    "with open(os.path.join(root_dir, 'MUSIC_solo_videos.json')) as json_file:\n",
    "    music_json = json.load(json_file)\n",
    "music_json = music_json['videos']"
   ]
  },
  {
   "cell_type": "code",
   "execution_count": 4,
   "metadata": {},
   "outputs": [
    {
     "output_type": "stream",
     "name": "stdout",
     "text": [
      "['accordion', 'acoustic_guitar', 'cello', 'clarinet', 'erhu', 'flute', 'saxophone', 'trumpet', 'tuba', 'violin', 'xylophone']\n"
     ]
    }
   ],
   "source": [
    "classes = sorted(music_json.keys())\n",
    "print(classes)"
   ]
  },
  {
   "cell_type": "code",
   "execution_count": 5,
   "metadata": {},
   "outputs": [
    {
     "output_type": "stream",
     "name": "stdout",
     "text": [
      "536\n"
     ]
    }
   ],
   "source": [
    "for vid_class in classes:\n",
    "    for vid_id in music_json[vid_class]:\n",
    "        vid_labels[vid_id] = vid_class\n",
    "print(len(vid_labels))"
   ]
  },
  {
   "cell_type": "code",
   "execution_count": 6,
   "metadata": {},
   "outputs": [
    {
     "output_type": "stream",
     "name": "stdout",
     "text": [
      "493\n"
     ]
    }
   ],
   "source": [
    "vid_exist_id = os.listdir(os.path.join(root_dir, 'png'))\n",
    "remove_list = list()\n",
    "for vid_id in vid_labels.keys():\n",
    "    if vid_id not in vid_exist_id:\n",
    "        remove_list.append(vid_id)\n",
    "for rm_item in remove_list:\n",
    "    vid_labels.pop(rm_item, None)\n",
    "print(len(vid_labels))"
   ]
  },
  {
   "cell_type": "code",
   "execution_count": 7,
   "metadata": {},
   "outputs": [
    {
     "output_type": "stream",
     "name": "stdout",
     "text": [
      "[('accordion', 57), ('cello', 56), ('acoustic_guitar', 55), ('erhu', 48), ('tuba', 48), ('violin', 46), ('flute', 43), ('xylophone', 40), ('trumpet', 39), ('clarinet', 38), ('saxophone', 23)]\n"
     ]
    }
   ],
   "source": [
    "from collections import Counter\n",
    "\n",
    "counter = Counter(vid_labels.values())\n",
    "counter = counter.most_common()\n",
    "print(counter)"
   ]
  },
  {
   "cell_type": "code",
   "execution_count": 8,
   "metadata": {},
   "outputs": [
    {
     "output_type": "execute_result",
     "data": {
      "text/plain": [
       "493"
      ]
     },
     "metadata": {},
     "execution_count": 8
    }
   ],
   "source": [
    "s = sum([x[1] for x in counter])\n",
    "s"
   ]
  },
  {
   "cell_type": "code",
   "execution_count": 9,
   "metadata": {},
   "outputs": [
    {
     "output_type": "execute_result",
     "data": {
      "text/plain": [
       "{'accordion': 5,\n",
       " 'cello': 5,\n",
       " 'acoustic_guitar': 5,\n",
       " 'erhu': 4,\n",
       " 'tuba': 4,\n",
       " 'violin': 4,\n",
       " 'flute': 4,\n",
       " 'xylophone': 4,\n",
       " 'trumpet': 3,\n",
       " 'clarinet': 3,\n",
       " 'saxophone': 2}"
      ]
     },
     "metadata": {},
     "execution_count": 9
    }
   ],
   "source": [
    "n_pick = {x[0]: int(x[1] / 493 * 50) for x in counter}\n",
    "n_pick"
   ]
  },
  {
   "cell_type": "code",
   "execution_count": 10,
   "metadata": {},
   "outputs": [
    {
     "output_type": "execute_result",
     "data": {
      "text/plain": [
       "43"
      ]
     },
     "metadata": {},
     "execution_count": 10
    }
   ],
   "source": [
    "sum(n_pick.values())"
   ]
  },
  {
   "cell_type": "code",
   "execution_count": 11,
   "metadata": {},
   "outputs": [
    {
     "output_type": "stream",
     "name": "stdout",
     "text": [
      "dict_keys(['accordion', 'acoustic_guitar', 'cello', 'clarinet', 'erhu', 'flute', 'saxophone', 'trumpet', 'tuba', 'violin', 'xylophone'])\n"
     ]
    }
   ],
   "source": [
    "music_json = dict()\n",
    "\n",
    "for k, v in vid_labels.items():\n",
    "    if v in music_json:\n",
    "        music_json[v].append(k)\n",
    "    else:\n",
    "        music_json[v] = [k]\n",
    "print(music_json.keys())"
   ]
  },
  {
   "cell_type": "code",
   "execution_count": 12,
   "metadata": {},
   "outputs": [
    {
     "output_type": "execute_result",
     "data": {
      "text/plain": [
       "43"
      ]
     },
     "metadata": {},
     "execution_count": 12
    }
   ],
   "source": [
    "import numpy.random as random\n",
    "\n",
    "val_set_ids = dict()\n",
    "for vid_class in music_json.keys():\n",
    "    val_set_ids[vid_class] = random.choice(music_json[vid_class], size=n_pick[vid_class], replace=False).tolist()\n",
    "sum([len(x) for x in val_set_ids.values()])"
   ]
  },
  {
   "cell_type": "code",
   "execution_count": 13,
   "metadata": {},
   "outputs": [
    {
     "output_type": "execute_result",
     "data": {
      "text/plain": [
       "450"
      ]
     },
     "metadata": {},
     "execution_count": 13
    }
   ],
   "source": [
    "from copy import deepcopy\n",
    "\n",
    "music_json_remain = deepcopy(music_json)\n",
    "for vid_class in val_set_ids:\n",
    "    for selected_id in val_set_ids[vid_class]:\n",
    "        music_json_remain[vid_class].remove(selected_id)\n",
    "sum([len(v) for _, v in music_json_remain.items()])"
   ]
  },
  {
   "cell_type": "code",
   "execution_count": 14,
   "metadata": {},
   "outputs": [
    {
     "output_type": "execute_result",
     "data": {
      "text/plain": [
       "50"
      ]
     },
     "metadata": {},
     "execution_count": 14
    }
   ],
   "source": [
    "increment_list = list(n_pick.keys())[:7]\n",
    "n_pick = {k: (v + 1) if k in increment_list else v for k, v in n_pick.items()}\n",
    "sum(n_pick.values())"
   ]
  },
  {
   "cell_type": "code",
   "execution_count": 15,
   "metadata": {},
   "outputs": [
    {
     "output_type": "execute_result",
     "data": {
      "text/plain": [
       "50"
      ]
     },
     "metadata": {},
     "execution_count": 15
    }
   ],
   "source": [
    "test_set_ids = dict()\n",
    "for vid_class in music_json.keys():\n",
    "    test_set_ids[vid_class] = random.choice(music_json_remain[vid_class], size=n_pick[vid_class], replace=False).tolist()\n",
    "sum([len(x) for x in test_set_ids.values()])"
   ]
  },
  {
   "cell_type": "code",
   "execution_count": 16,
   "metadata": {},
   "outputs": [
    {
     "output_type": "stream",
     "name": "stdout",
     "text": [
      "400\n"
     ]
    },
    {
     "output_type": "execute_result",
     "data": {
      "text/plain": [
       "400"
      ]
     },
     "metadata": {},
     "execution_count": 16
    }
   ],
   "source": [
    "music_json_remain_2 = deepcopy(music_json_remain)\n",
    "for vid_class in test_set_ids:\n",
    "    for selected_id in test_set_ids[vid_class]:\n",
    "        music_json_remain_2[vid_class].remove(selected_id)\n",
    "print(sum([len(v) for _, v in music_json_remain_2.items()]))\n",
    "train_set_ids = dict()\n",
    "for vid_class in music_json_remain_2.keys():\n",
    "    train_set_ids[vid_class] = music_json_remain_2[vid_class]\n",
    "sum([len(x) for x in train_set_ids.values()])"
   ]
  },
  {
   "cell_type": "code",
   "execution_count": 17,
   "metadata": {},
   "outputs": [],
   "source": [
    "with open('val_split.json', 'w') as json_file:\n",
    "    json.dump(val_set_ids, json_file)\n",
    "with open('test_split.json', 'w') as json_file:\n",
    "    json.dump(test_set_ids, json_file)\n",
    "with open('train_split.json', 'w') as json_file:\n",
    "    json.dump(train_set_ids, json_file)\n"
   ]
  }
 ]
}