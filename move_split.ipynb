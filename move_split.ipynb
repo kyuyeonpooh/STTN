{
 "metadata": {
  "language_info": {
   "codemirror_mode": {
    "name": "ipython",
    "version": 3
   },
   "file_extension": ".py",
   "mimetype": "text/x-python",
   "name": "python",
   "nbconvert_exporter": "python",
   "pygments_lexer": "ipython3",
   "version": "3.6.3-final"
  },
  "orig_nbformat": 2,
  "kernelspec": {
   "name": "python363jvsc74a57bd0488d36856135a845504ec1bf2d6ea295802ce30fbf27e4b0f7fd72293d3389e6",
   "display_name": "Python 3.6.3 64-bit ('sttn': conda)"
  }
 },
 "nbformat": 4,
 "nbformat_minor": 2,
 "cells": [
  {
   "cell_type": "code",
   "execution_count": 1,
   "metadata": {},
   "outputs": [],
   "source": [
    "import os\n",
    "import json\n",
    "import shutil"
   ]
  },
  {
   "cell_type": "code",
   "execution_count": 2,
   "metadata": {},
   "outputs": [],
   "source": [
    "root_dir = '/home/kyuyeon/ssd/sandbox/__dataset/MUSIC'\r\n",
    "target_dir = 'datasets/music-solo'\r\n",
    "for split in ['train', 'val', 'test']:\r\n",
    "    os.makedirs(os.path.join(target_dir, split), exist_ok=True)"
   ]
  },
  {
   "cell_type": "code",
   "execution_count": 3,
   "metadata": {},
   "outputs": [],
   "source": [
    "with open('train_split.json') as json_file:\n",
    "    train_json = json.load(json_file)\n",
    "with open('val_split.json') as json_file:\n",
    "    val_json = json.load(json_file)\n",
    "with open('test_split.json') as json_file:\n",
    "    test_json = json.load(json_file)"
   ]
  },
  {
   "cell_type": "code",
   "execution_count": 4,
   "metadata": {},
   "outputs": [],
   "source": [
    "from tqdm import tqdm\n",
    "\n",
    "def copy_data_split(split):\n",
    "    if split == 'train':\n",
    "        json_content = train_json\n",
    "    elif split == 'val':\n",
    "        json_content = val_json\n",
    "    elif split == 'test':\n",
    "        json_content = test_json\n",
    "\n",
    "    vid_ids = []\n",
    "    for k, v in json_content.items():\n",
    "        vid_ids += v\n",
    "    \n",
    "    for vid_id in tqdm(vid_ids):\n",
    "        src = os.path.join(root_dir, 'png', vid_id)\n",
    "        dst = os.path.join(target_dir, split, 'png', vid_id)\n",
    "        shutil.copytree(src, dst)\n",
    "        src = os.path.join(root_dir, 'wav', f'{vid_id}.wav')\n",
    "        dst = os.path.join(target_dir, split, 'wav')\n",
    "        os.makedirs(dst, exist_ok=True)\n",
    "        dst = os.path.join(target_dir, split, 'wav', f'{vid_id}.wav')\n",
    "        shutil.copy(src, dst)\n",
    "\n"
   ]
  },
  {
   "cell_type": "code",
   "execution_count": 5,
   "metadata": {},
   "outputs": [
    {
     "output_type": "stream",
     "name": "stderr",
     "text": [
      "100%|██████████| 400/400 [02:27<00:00,  2.70it/s]\n",
      "100%|██████████| 43/43 [00:17<00:00,  2.52it/s]\n",
      "100%|██████████| 50/50 [00:18<00:00,  2.66it/s]\n"
     ]
    }
   ],
   "source": [
    "copy_data_split('train')\n",
    "copy_data_split('val')\n",
    "copy_data_split('test')"
   ]
  }
 ]
}